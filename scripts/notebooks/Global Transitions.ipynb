{
 "cells": [
  {
   "cell_type": "markdown",
   "metadata": {},
   "source": [
    "# All Policies"
   ]
  },
  {
   "cell_type": "markdown",
   "metadata": {},
   "source": [
    "Analyze the performance of our Whittle and Adaptive Policies"
   ]
  },
  {
   "cell_type": "code",
   "execution_count": 2,
   "metadata": {},
   "outputs": [],
   "source": [
    "%load_ext autoreload\n",
    "%autoreload 2"
   ]
  },
  {
   "cell_type": "code",
   "execution_count": 3,
   "metadata": {},
   "outputs": [],
   "source": [
    "import sys\n",
    "sys.path.append('/usr0/home/naveenr/projects/food_rescue_preferences')"
   ]
  },
  {
   "cell_type": "code",
   "execution_count": 4,
   "metadata": {},
   "outputs": [],
   "source": [
    "import numpy as np\n",
    "import random \n",
    "import matplotlib.pyplot as plt\n",
    "import json \n",
    "import argparse \n",
    "import sys\n",
    "from copy import deepcopy\n",
    "import secrets\n",
    "from itertools import combinations\n",
    "from rmab.simulator import create_transitions_from_prob\n",
    "from rmab.whittle_policies import whittle_index\n",
    "from rmab.compute_whittle import arm_compute_whittle_multi_state, arm_compute_whittle, fast_arm_compute_whittle\n",
    "from collections import Counter\n",
    "import gurobipy as gp\n",
    "from gurobipy import GRB"
   ]
  },
  {
   "cell_type": "markdown",
   "metadata": {},
   "source": [
    "## Non RMAB-Version"
   ]
  },
  {
   "cell_type": "code",
   "execution_count": 5,
   "metadata": {},
   "outputs": [],
   "source": [
    "N = 10\n",
    "K = 5\n",
    "probs = [random.random() for i in range(N)]\n",
    "rewards = [random.random() for i in range(N)]\n",
    "probs = np.array(probs)\n",
    "rewards = np.array(rewards)"
   ]
  },
  {
   "cell_type": "code",
   "execution_count": 6,
   "metadata": {},
   "outputs": [
    {
     "data": {
      "text/plain": [
       "array([0.83325512, 0.65264265, 0.52739642, 0.74895119, 0.70772929,\n",
       "       0.16214977, 0.3099193 , 0.16675392, 0.71938171, 0.39044687])"
      ]
     },
     "execution_count": 6,
     "metadata": {},
     "output_type": "execute_result"
    }
   ],
   "source": [
    "rewards"
   ]
  },
  {
   "cell_type": "code",
   "execution_count": 7,
   "metadata": {},
   "outputs": [],
   "source": [
    "def run_trial(actions,probs,rewards):\n",
    "    flips = [rewards[j] for j in range(len(probs)) if random.random() < probs[j] and actions[j]]\n",
    "    if len(flips) > 0:\n",
    "        return random.choice(flips)\n",
    "    else:\n",
    "        return 0"
   ]
  },
  {
   "cell_type": "code",
   "execution_count": 8,
   "metadata": {},
   "outputs": [],
   "source": [
    "a = [probs[i] * rewards[i] for i in range(len(probs))]\n",
    "b = [probs[i] for i in range(len(probs))]"
   ]
  },
  {
   "cell_type": "code",
   "execution_count": 9,
   "metadata": {},
   "outputs": [
    {
     "name": "stdout",
     "output_type": "stream",
     "text": [
      "Set parameter Username\n",
      "Academic license - for non-commercial use only - expires 2024-10-05\n",
      "Gurobi Optimizer version 10.0.3 build v10.0.3rc0 (linux64)\n",
      "\n",
      "CPU model: Intel(R) Core(TM) i7-7700K CPU @ 4.20GHz, instruction set [SSE2|AVX|AVX2]\n",
      "Thread count: 4 physical cores, 8 logical processors, using up to 8 threads\n",
      "\n",
      "Optimize a model with 12 rows, 11 columns and 41 nonzeros\n",
      "Model fingerprint: 0x02a8a48c\n",
      "Coefficient statistics:\n",
      "  Matrix range     [7e-03, 5e+00]\n",
      "  Objective range  [4e-03, 6e-01]\n",
      "  Bounds range     [0e+00, 0e+00]\n",
      "  RHS range        [1e+00, 1e+00]\n",
      "Presolve time: 0.00s\n",
      "Presolved: 12 rows, 11 columns, 41 nonzeros\n",
      "\n",
      "Iteration    Objective       Primal Inf.    Dual Inf.      Time\n",
      "       0    2.1911197e+30   1.530628e+31   4.382239e+00      0s\n",
      "       6    7.4356448e-01   0.000000e+00   0.000000e+00      0s\n",
      "\n",
      "Solved in 6 iterations and 0.00 seconds (0.00 work units)\n",
      "Optimal objective  7.435644764e-01\n"
     ]
    }
   ],
   "source": [
    "a = [probs[i] * rewards[i] for i in range(len(probs))]\n",
    "b = [probs[i] for i in range(len(probs))]\n",
    "model = gp.Model(\"lfp\")\n",
    "x = model.addVars(len(probs), lb=0, name=\"x\")\n",
    "t = model.addVar(name=\"t\")\n",
    "model.setObjective(gp.quicksum(a[i] * x[i] for i in range(len(probs))), GRB.MAXIMIZE)\n",
    "model.addConstr(gp.quicksum(b[i] * x[i] for i in range(len(probs))) == 1, name=\"c1\")\n",
    "model.addConstr(gp.quicksum(x[i] for i in range(len(probs))) == K*t, name=\"c2\")\n",
    "for i in range(len(probs)):\n",
    "    model.addConstr(x[i] <= t, name=f\"c3_{i}\")\n",
    "model.optimize()\n",
    "\n"
   ]
  },
  {
   "cell_type": "code",
   "execution_count": 10,
   "metadata": {},
   "outputs": [
    {
     "name": "stdout",
     "output_type": "stream",
     "text": [
      "[1 0 1 1 1 0 0 0 1 0]\n"
     ]
    }
   ],
   "source": [
    "if model.status == GRB.OPTIMAL:\n",
    "    y_opt = model.getAttr('x', x)\n",
    "    t_opt = t.X\n",
    "    action = [y_opt[i] / t_opt for i in range(N)]\n",
    "    action = [round(i) for i in action]\n",
    "    action = np.array(action)\n",
    "    print(action)\n"
   ]
  },
  {
   "cell_type": "code",
   "execution_count": 11,
   "metadata": {},
   "outputs": [
    {
     "data": {
      "text/plain": [
       "0.611752194711202"
      ]
     },
     "execution_count": 11,
     "metadata": {},
     "output_type": "execute_result"
    }
   ],
   "source": [
    "trials = 1000\n",
    "np.mean([run_trial(action,probs,rewards) for i in range(trials)])"
   ]
  },
  {
   "cell_type": "markdown",
   "metadata": {},
   "source": [
    "## RMAB Version"
   ]
  },
  {
   "cell_type": "code",
   "execution_count": 12,
   "metadata": {},
   "outputs": [],
   "source": [
    "transitions = np.zeros((N,3,2,3))\n",
    "\n",
    "for i in range(N):\n",
    "    transitions[i,0,0,1] = np.random.uniform(0,0.25)\n",
    "    transitions[i,0,0,0] = 1-transitions[i,0,0,1]\n",
    "    transitions[i,0,1,1] = np.random.uniform(transitions[i,0,0,1],1)\n",
    "    transitions[i,1,0,1] = np.random.uniform(transitions[i,0,0,1],1)\n",
    "    transitions[i,1,0,0] = 1-transitions[i,1,0,1]\n",
    "    transitions[i,1,1,1] = np.random.uniform(max(transitions[i,0,1,1],transitions[i,1,0,1]),1)\n",
    "    transitions[i,1,1,2] = np.random.uniform(0,1-transitions[i,1,1,1])\n",
    "    transitions[i,0,1,2] = np.random.uniform(0,min(transitions[i,1,1,2],1-transitions[i,0,1,1]))\n",
    "    transitions[i,2,0,0] = transitions[i,2,0,1] = 0\n",
    "    transitions[i,2,1,1] = np.random.uniform(transitions[i,1,1,1],1)\n",
    "    transitions[i,2,1,0] = 1-transitions[i,2,1,1]\n",
    "\n",
    "    transitions[i,0,1,0] = 1-transitions[i,0,1,1]-transitions[i,0,1,2]\n",
    "    transitions[i,1,1,0] = 1-transitions[i,1,1,1]-transitions[i,1,1,2]\n",
    "    "
   ]
  },
  {
   "cell_type": "code",
   "execution_count": 13,
   "metadata": {},
   "outputs": [
    {
     "data": {
      "text/plain": [
       "([0.014014218552536229,\n",
       "  0.017544805734268823,\n",
       "  0.01693453926666534,\n",
       "  0.024383699406249484,\n",
       "  0.024828738697437392,\n",
       "  0.01154497561114773,\n",
       "  0.015668457531609267,\n",
       "  0.020500587019499927,\n",
       "  0.013258255650057942,\n",
       "  0.028503464014304623],\n",
       " [1.0275584083164615,\n",
       "  1.036756023185565,\n",
       "  1.0390327135515183,\n",
       "  1.0361079434311378,\n",
       "  1.0363185915692141,\n",
       "  1.0323218142752209,\n",
       "  1.0355574182324165,\n",
       "  1.040044571138455,\n",
       "  1.0410716262756303,\n",
       "  1.0389555979264924])"
      ]
     },
     "execution_count": 13,
     "metadata": {},
     "output_type": "execute_result"
    }
   ],
   "source": [
    "curr_state = np.array([random.randint(0,1) for i in range(N)])\n",
    "state_WI = []\n",
    "state_WI_if_2 = []\n",
    "\n",
    "for i in range(N):\n",
    "    arm_transitions = transitions[i,:2,:,:2]\n",
    "    for j in range(2):\n",
    "        arm_transitions[j,1] /= np.sum(arm_transitions[j,1])\n",
    "    state_WI.append(fast_arm_compute_whittle(arm_transitions[:,:,1], curr_state[i], 0.9, 1e-3,reward_function='combined',lamb=0.5,match_prob=0,num_arms=N))\n",
    "\n",
    "# TODO: Incorporate the 3-state, multi-transition computation\n",
    "for i in range(N):\n",
    "    arm_transitions = np.zeros((2,2))\n",
    "    arm_transitions[0,0] = transitions[i,0,0,1]\n",
    "    arm_transitions[1,0] = transitions[i,2,0,1]\n",
    "    arm_transitions[0,1] = transitions[i,0,1,1]\n",
    "    arm_transitions[1,1] = transitions[i,2,1,1]\n",
    "    state_WI_if_2.append(fast_arm_compute_whittle(arm_transitions, 1, 0.9, 1e-3,reward_function='combined',lamb=0.5,match_prob=0,num_arms=N)+1)\n",
    "state_WI, state_WI_if_2"
   ]
  },
  {
   "cell_type": "code",
   "execution_count": 14,
   "metadata": {},
   "outputs": [
    {
     "name": "stdout",
     "output_type": "stream",
     "text": [
      "Gurobi Optimizer version 10.0.3 build v10.0.3rc0 (linux64)\n",
      "\n",
      "CPU model: Intel(R) Core(TM) i7-7700K CPU @ 4.20GHz, instruction set [SSE2|AVX|AVX2]\n",
      "Thread count: 4 physical cores, 8 logical processors, using up to 8 threads\n",
      "\n",
      "Optimize a model with 11 rows, 11 columns and 20 nonzeros\n",
      "Model fingerprint: 0xd725ee30\n",
      "Coefficient statistics:\n",
      "  Matrix range     [1e+00, 1e+00]\n",
      "  Objective range  [1e-02, 3e-01]\n",
      "  Bounds range     [0e+00, 0e+00]\n",
      "  RHS range        [1e+00, 5e+00]\n",
      "Presolve removed 10 rows and 1 columns\n",
      "Presolve time: 0.00s\n",
      "Presolved: 1 rows, 10 columns, 10 nonzeros\n",
      "\n",
      "Iteration    Objective       Primal Inf.    Dual Inf.      Time\n",
      "       0    1.2666829e+00   4.000000e+00   0.000000e+00      0s\n",
      "       1    6.3918811e-01   0.000000e+00   0.000000e+00      0s\n",
      "\n",
      "Solved in 1 iterations and 0.00 seconds (0.00 work units)\n",
      "Optimal objective  6.391881059e-01\n"
     ]
    }
   ],
   "source": [
    "a = [curr_state[i]*(state_WI_if_2[i]*transitions[i,curr_state[i],1,2] - state_WI[i]*transitions[i,curr_state[i],1,2]) for i in range(N)]\n",
    "b = [transitions[i,curr_state[i],1,2] for i in range(N)]\n",
    "c = [state_WI[i] for i in range(N)]\n",
    "m = gp.Model()\n",
    "\n",
    "# Create variables\n",
    "z = m.addVars(N, lb=0, name=\"z\")\n",
    "t = m.addVar(lb=0, name=\"t\")\n",
    "\n",
    "# Constraint: sum(b[i] * z[i]) = t\n",
    "# m.addConstr(gp.quicksum(b[i] * z[i] for i in range(N)) == t, \"constraint_1\")\n",
    "m.addConstr(gp.quicksum(z[i] for i in range(N)) == K, \"constraint_1\")\n",
    "for i in range(N):\n",
    "    m.addConstr(z[i] <= 1, name=f\"c3_{i}\")\n",
    "\n",
    "# Set objective\n",
    "m.setObjective(gp.quicksum((a[i] + c[i]) * z[i] for i in range(N)), GRB.MAXIMIZE)\n",
    "\n",
    "# Optimize the model\n",
    "m.optimize()\n",
    "\n"
   ]
  },
  {
   "cell_type": "code",
   "execution_count": 16,
   "metadata": {},
   "outputs": [
    {
     "name": "stdout",
     "output_type": "stream",
     "text": [
      "[1 0 1 1 1 0 0 0 1 0]\n"
     ]
    }
   ],
   "source": [
    "if model.status == GRB.OPTIMAL:\n",
    "    y_opt = model.getAttr('x', z)\n",
    "    action = [y_opt[i] for i in range(N)]\n",
    "    action = [round(i) for i in action]\n",
    "    action = np.array(action)\n",
    "    print(action)\n"
   ]
  },
  {
   "cell_type": "code",
   "execution_count": 87,
   "metadata": {},
   "outputs": [
    {
     "name": "stdout",
     "output_type": "stream",
     "text": [
      "Gurobi Optimizer version 10.0.3 build v10.0.3rc0 (linux64)\n",
      "\n",
      "CPU model: Intel(R) Core(TM) i7-7700K CPU @ 4.20GHz, instruction set [SSE2|AVX|AVX2]\n",
      "Thread count: 4 physical cores, 8 logical processors, using up to 8 threads\n",
      "\n",
      "Optimize a model with 12 rows, 11 columns and 42 nonzeros\n",
      "Model fingerprint: 0x6ad73930\n",
      "Coefficient statistics:\n",
      "  Matrix range     [1e-03, 5e+00]\n",
      "  Objective range  [2e-02, 3e-01]\n",
      "  Bounds range     [0e+00, 0e+00]\n",
      "  RHS range        [0e+00, 0e+00]\n",
      "Presolve time: 0.00s\n",
      "Presolved: 12 rows, 11 columns, 42 nonzeros\n",
      "\n",
      "Iteration    Objective       Primal Inf.    Dual Inf.      Time\n",
      "       0    8.4882041e+29   1.196379e+31   8.488204e-01      0s\n",
      "       5   -0.0000000e+00   0.000000e+00   0.000000e+00      0s\n",
      "\n",
      "Solved in 5 iterations and 0.01 seconds (0.00 work units)\n",
      "Optimal objective -0.000000000e+00\n"
     ]
    }
   ],
   "source": [
    "a = [curr_state[i]*(state_WI_if_2[i]*transitions[i,curr_state[i],1,2] - state_WI[i]*transitions[i,curr_state[i],1,2]) for i in range(N)]\n",
    "b = [transitions[i,curr_state[i],1,2] for i in range(N)]\n",
    "c = [state_WI[i] for i in range(N)]\n",
    "m = gp.Model()\n",
    "\n",
    "# Create variables\n",
    "z = m.addVars(N, lb=0, name=\"z\")\n",
    "t = m.addVar(lb=0, name=\"t\")\n",
    "\n",
    "# Constraint: sum(b[i] * z[i]) = t\n",
    "m.addConstr(gp.quicksum(b[i] * z[i] for i in range(N)) == t, \"constraint_1\")\n",
    "m.addConstr(gp.quicksum(z[i] for i in range(N)) == K*t, \"constraint_1\")\n",
    "for i in range(N):\n",
    "    m.addConstr(z[i] <= t, name=f\"c3_{i}\")\n",
    "\n",
    "# Set objective\n",
    "m.setObjective(gp.quicksum((a[i] + c[i]) * z[i] for i in range(N)), GRB.MAXIMIZE)\n",
    "\n",
    "# Optimize the model\n",
    "m.optimize()\n",
    "\n"
   ]
  },
  {
   "cell_type": "code",
   "execution_count": 88,
   "metadata": {},
   "outputs": [
    {
     "name": "stdout",
     "output_type": "stream",
     "text": [
      "[1 0 1 0 0 0 1 1 0 1]\n"
     ]
    }
   ],
   "source": [
    "if model.status == GRB.OPTIMAL:\n",
    "    y_opt = model.getAttr('x', z)\n",
    "    t_opt = t.X\n",
    "    action = [min(y_opt[i],1) for i in range(N)]\n",
    "    action = [round(i) for i in action]\n",
    "    action = np.array(action)\n",
    "    print(action)\n"
   ]
  }
 ],
 "metadata": {
  "kernelspec": {
   "display_name": "food",
   "language": "python",
   "name": "python3"
  },
  "language_info": {
   "codemirror_mode": {
    "name": "ipython",
    "version": 3
   },
   "file_extension": ".py",
   "mimetype": "text/x-python",
   "name": "python",
   "nbconvert_exporter": "python",
   "pygments_lexer": "ipython3",
   "version": "3.8.18"
  },
  "orig_nbformat": 4
 },
 "nbformat": 4,
 "nbformat_minor": 2
}

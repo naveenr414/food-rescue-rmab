{
 "cells": [
  {
   "cell_type": "markdown",
   "metadata": {},
   "source": [
    "# All Policies"
   ]
  },
  {
   "cell_type": "markdown",
   "metadata": {},
   "source": [
    "Analyze the performance of our Whittle and Adaptive Policies"
   ]
  },
  {
   "cell_type": "code",
   "execution_count": 1,
   "metadata": {},
   "outputs": [],
   "source": [
    "%load_ext autoreload\n",
    "%autoreload 2"
   ]
  },
  {
   "cell_type": "code",
   "execution_count": 7,
   "metadata": {},
   "outputs": [],
   "source": [
    "import sys\n",
    "sys.path.append('/usr0/home/naveenr/projects/food_rescue_preferences')"
   ]
  },
  {
   "cell_type": "code",
   "execution_count": 8,
   "metadata": {},
   "outputs": [],
   "source": [
    "import numpy as np\n",
    "import random \n",
    "import matplotlib.pyplot as plt\n",
    "import json \n",
    "import argparse \n",
    "import sys\n",
    "from copy import deepcopy\n",
    "import secrets\n",
    "from itertools import combinations\n",
    "from rmab.simulator import create_transitions_from_prob\n",
    "from rmab.compute_whittle import arm_compute_whittle_multi_state, arm_compute_whittle"
   ]
  },
  {
   "cell_type": "code",
   "execution_count": 17,
   "metadata": {},
   "outputs": [],
   "source": [
    "n_arms = 3\n",
    "budget = 1\n",
    "\n",
    "probabilities = [np.random.random() for i in range(n_arms)]"
   ]
  },
  {
   "cell_type": "code",
   "execution_count": 18,
   "metadata": {},
   "outputs": [],
   "source": [
    "def total_prob(action):\n",
    "    action = np.array(action)\n",
    "    if np.sum(action) == 0:\n",
    "        return 0\n",
    "    return 1/np.sum(action)"
   ]
  },
  {
   "cell_type": "code",
   "execution_count": 19,
   "metadata": {},
   "outputs": [],
   "source": [
    "all_transitions,probs_by_partition = create_transitions_from_prob(\"food_rescue\",43,max_transition_prob=0.25)"
   ]
  },
  {
   "cell_type": "code",
   "execution_count": 22,
   "metadata": {},
   "outputs": [],
   "source": [
    "def create_transition(prob):\n",
    "    transitions = np.zeros((2,2,2))\n",
    "    transitions[:,0,0] = 1\n",
    "    transitions[:,1,1] = prob \n",
    "    transitions[:,1,0] = 1-prob \n",
    "    return transitions"
   ]
  },
  {
   "cell_type": "code",
   "execution_count": 24,
   "metadata": {},
   "outputs": [
    {
     "data": {
      "text/plain": [
       "array([[[1. , 0. ],\n",
       "        [0.5, 0.5]],\n",
       "\n",
       "       [[1. , 0. ],\n",
       "        [0.5, 0.5]]])"
      ]
     },
     "execution_count": 24,
     "metadata": {},
     "output_type": "execute_result"
    }
   ],
   "source": [
    "create_transition(0.5)"
   ]
  },
  {
   "cell_type": "code",
   "execution_count": 25,
   "metadata": {},
   "outputs": [],
   "source": [
    "state = [0 for i in range(n_arms)]"
   ]
  },
  {
   "cell_type": "code",
   "execution_count": 27,
   "metadata": {},
   "outputs": [],
   "source": [
    "prob_list_default = [0.5,0.5,0.52]\n",
    "prob_multiplier_001 = 1\n",
    "prob_multiplier_010 = 1\n",
    "prob_multiplier_100 = 1.5"
   ]
  },
  {
   "cell_type": "code",
   "execution_count": 26,
   "metadata": {},
   "outputs": [],
   "source": [
    "def get_transitions(global_action,seed):\n",
    "    np.random.seed(seed)    \n",
    "    transitions = np.array([create_transition(i) for i in prob_list_default])\n",
    "\n",
    "    if list(global_action) == [1,0,0]:\n",
    "        transitions = np.array([create_transition(i*prob_multiplier_100) for i in prob_list_default])\n",
    "\n",
    "    return transitions"
   ]
  },
  {
   "cell_type": "code",
   "execution_count": 14,
   "metadata": {},
   "outputs": [],
   "source": [
    "seed = 44"
   ]
  },
  {
   "cell_type": "code",
   "execution_count": 29,
   "metadata": {},
   "outputs": [
    {
     "name": "stdout",
     "output_type": "stream",
     "text": [
      "[0. 0. 0.] [0. 0. 1.]\n",
      "[0.15020370483398438, 0.15020370483398438, 0.15592575073242188]\n",
      "Best response [0 0 1]\n"
     ]
    }
   ],
   "source": [
    "start_action = np.zeros((n_arms))\n",
    "action = np.zeros((n_arms)) \n",
    "start_action[np.random.choice(list(range(n_arms)),size=budget,replace=False)] = 1\n",
    "\n",
    "while False in (action == start_action):\n",
    "    print(action,start_action)\n",
    "    state_WI = []\n",
    "\n",
    "    transitions = get_transitions(start_action,seed)\n",
    "    for i in range(n_arms):\n",
    "        state_WI.append(arm_compute_whittle(transitions[i,:,:,1], state[i], 0.9, 0, eps=1e-3,reward_function='combined',lamb=1,match_prob=0,match_probability_list=[],get_v=False,num_arms=n_arms))\n",
    "    print(state_WI)\n",
    "    selected_idx = np.argsort(state_WI)[-budget:][::-1]\n",
    "    action = deepcopy(start_action)\n",
    "    start_action = np.zeros(n_arms, dtype=np.int8)\n",
    "    start_action[selected_idx] = 1\n",
    "    print(\"Best response {}\".format(start_action))"
   ]
  },
  {
   "cell_type": "code",
   "execution_count": 30,
   "metadata": {},
   "outputs": [
    {
     "data": {
      "text/plain": [
       "[1, 0, 0]"
      ]
     },
     "execution_count": 30,
     "metadata": {},
     "output_type": "execute_result"
    }
   ],
   "source": [
    "max_whittle_sum = 0\n",
    "max_action = []\n",
    "\n",
    "for i in range(2**n_arms):\n",
    "    binary_rep = bin(i)[2:]\n",
    "    action = [int(j) for j in binary_rep.zfill(n_arms)]\n",
    "    if np.sum(action) <= budget:\n",
    "        transitions = get_transitions(action,seed)\n",
    "        state_WI = []\n",
    "        for j in range(n_arms):\n",
    "            if action[j] == 1:\n",
    "                state_WI.append(arm_compute_whittle(transitions[j,:,:,1], state[j], 0.9, 0, eps=1e-3,reward_function='combined',lamb=0.5,match_prob=0.5,match_probability_list=[],get_v=False,num_arms=n_arms))\n",
    "        if np.sum(state_WI) > max_whittle_sum:\n",
    "            max_action = action\n",
    "            max_whittle_sum = np.sum(np.array(state_WI))\n",
    "max_action"
   ]
  },
  {
   "cell_type": "code",
   "execution_count": null,
   "metadata": {},
   "outputs": [],
   "source": []
  }
 ],
 "metadata": {
  "kernelspec": {
   "display_name": "food",
   "language": "python",
   "name": "python3"
  },
  "language_info": {
   "codemirror_mode": {
    "name": "ipython",
    "version": 3
   },
   "file_extension": ".py",
   "mimetype": "text/x-python",
   "name": "python",
   "nbconvert_exporter": "python",
   "pygments_lexer": "ipython3",
   "version": "3.8.18"
  },
  "orig_nbformat": 4
 },
 "nbformat": 4,
 "nbformat_minor": 2
}

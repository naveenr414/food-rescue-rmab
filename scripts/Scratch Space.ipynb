{
 "cells": [
  {
   "cell_type": "code",
   "execution_count": 1,
   "metadata": {},
   "outputs": [],
   "source": [
    "%load_ext autoreload\n",
    "%autoreload 2"
   ]
  },
  {
   "cell_type": "code",
   "execution_count": 2,
   "metadata": {},
   "outputs": [],
   "source": [
    "import numpy as np\n",
    "import random \n",
    "import matplotlib.pyplot as plt\n",
    "import json \n",
    "import argparse \n",
    "import sys\n",
    "from random import  uniform\n",
    "from itertools import combinations"
   ]
  },
  {
   "cell_type": "code",
   "execution_count": 3,
   "metadata": {},
   "outputs": [],
   "source": [
    "num_trials = 100\n",
    "num_points = 1000\n",
    "K = 4\n"
   ]
  },
  {
   "cell_type": "code",
   "execution_count": 4,
   "metadata": {},
   "outputs": [],
   "source": [
    "points = np.random.random((num_points,2))"
   ]
  },
  {
   "cell_type": "code",
   "execution_count": 5,
   "metadata": {},
   "outputs": [],
   "source": [
    "\n",
    "if len(points)<10:\n",
    "    combinations_list = list(combinations(points, K))\n",
    "\n",
    "    scores = []\n",
    "    for combo in combinations_list:\n",
    "        combo = np.array(combo)\n",
    "        matching_score = 1-np.prod(combo[:,0])\n",
    "        engagement_score =  np.sum(combo[:,1])\n",
    "        scores.append(matching_score + engagement_score)\n",
    "    np.max(scores)"
   ]
  },
  {
   "cell_type": "code",
   "execution_count": 6,
   "metadata": {},
   "outputs": [],
   "source": [
    "epsilon = .01 \n",
    "dp = np.zeros((K+1,num_points+1,round(1/epsilon)+1))"
   ]
  },
  {
   "cell_type": "code",
   "execution_count": 7,
   "metadata": {},
   "outputs": [],
   "source": [
    "for k in range(dp.shape[0]):\n",
    "    for n in range(dp.shape[1]):\n",
    "        for e in range(dp.shape[2]):\n",
    "            if k == 0 or n == 0:\n",
    "                dp[k][n][e] = 1-e*epsilon\n",
    "            else: \n",
    "                baseline = dp[k][n-1][e]\n",
    "                other_option = dp[k-1][n-1][round(e*points[n-1][0])] + points[n-1][1]\n",
    "                dp[k][n][e] = max(baseline,other_option)"
   ]
  },
  {
   "cell_type": "code",
   "execution_count": 8,
   "metadata": {},
   "outputs": [
    {
     "data": {
      "text/plain": [
       "4.995494652146921"
      ]
     },
     "execution_count": 8,
     "metadata": {},
     "output_type": "execute_result"
    }
   ],
   "source": [
    "dp[-1][-1][-1]"
   ]
  },
  {
   "cell_type": "code",
   "execution_count": 14,
   "metadata": {},
   "outputs": [
    {
     "data": {
      "text/plain": [
       "(4.958504375312464, 4.462580151919658)"
      ]
     },
     "execution_count": 14,
     "metadata": {},
     "output_type": "execute_result"
    }
   ],
   "source": [
    "def to_prob(x):\n",
    "    x = np.maximum(x,0)\n",
    "    return (100-x)/100\n",
    "\n",
    "num_times = 1000\n",
    "\n",
    "mu_values = np.array([0.0 for i in range(num_points)])\n",
    "max_vals = np.array([0.0 for i in range(num_points)])\n",
    "num_pulls = np.array([0.0 for i in range(num_points)])\n",
    "observed_vals = np.array([0.0 for i in range(num_points)])\n",
    "\n",
    "upper_bound_match = np.prod(sorted(points[:,0])[-K-1:])\n",
    "upper_bound_engagement = np.sum(sorted(points[:,1])[-K-1:])\n",
    "\n",
    "for i in range(len(mu_values)):\n",
    "    max_val = 1-points[i][0]*upper_bound_match+points[i][1]+upper_bound_engagement\n",
    "    max_vals[i] = max_val \n",
    "    mu_values[i] = max_val \n",
    "\n",
    "for i in range(num_times):\n",
    "    current_cohort = np.argsort(mu_values)[-k:][::-1]\n",
    "    real_val = 1-np.prod(points[current_cohort,0]) + np.sum(points[current_cohort,1])\n",
    "    observed_vals[current_cohort] = np.maximum(observed_vals[current_cohort],real_val)\n",
    "    num_pulls[current_cohort] += 1\n",
    "\n",
    "    probs = to_prob(num_pulls[current_cohort])\n",
    "    mu_values[current_cohort] = probs * max_vals[current_cohort] + (1-probs)*observed_vals[current_cohort]\n",
    "cohort_vals = []\n",
    "for i in range(num_times):\n",
    "    rand_points = points[np.random.choice(points.shape[0], k, replace=False)]\n",
    "    real_val = 1-np.prod(rand_points[:,0]) + np.sum(rand_points[:,1])\n",
    "    cohort_vals.append(real_val)\n",
    "np.max(observed_vals), np.max(cohort_vals)"
   ]
  },
  {
   "cell_type": "code",
   "execution_count": 21,
   "metadata": {},
   "outputs": [
    {
     "data": {
      "text/plain": [
       "4.8985039670757216"
      ]
     },
     "execution_count": 21,
     "metadata": {},
     "output_type": "execute_result"
    }
   ],
   "source": [
    "greedy_vals = [(1-i[0]+i[1]) for i in points]\n",
    "max_greedy = np.argsort(greedy_vals)[-k:][::-1]\n",
    "true_points = points[max_greedy]\n",
    "score = 1-np.prod(true_points[:,0])+np.sum(true_points[:,1])\n",
    "score"
   ]
  },
  {
   "cell_type": "code",
   "execution_count": null,
   "metadata": {},
   "outputs": [],
   "source": []
  }
 ],
 "metadata": {
  "kernelspec": {
   "display_name": "food",
   "language": "python",
   "name": "python3"
  },
  "language_info": {
   "codemirror_mode": {
    "name": "ipython",
    "version": 3
   },
   "file_extension": ".py",
   "mimetype": "text/x-python",
   "name": "python",
   "nbconvert_exporter": "python",
   "pygments_lexer": "ipython3",
   "version": "3.8.18"
  },
  "orig_nbformat": 4
 },
 "nbformat": 4,
 "nbformat_minor": 2
}
